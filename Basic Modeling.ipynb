{
 "cells": [
  {
   "cell_type": "code",
   "execution_count": 1,
   "id": "abc7f563",
   "metadata": {},
   "outputs": [
    {
     "data": {
      "text/html": [
       "<div>\n",
       "<style scoped>\n",
       "    .dataframe tbody tr th:only-of-type {\n",
       "        vertical-align: middle;\n",
       "    }\n",
       "\n",
       "    .dataframe tbody tr th {\n",
       "        vertical-align: top;\n",
       "    }\n",
       "\n",
       "    .dataframe thead th {\n",
       "        text-align: right;\n",
       "    }\n",
       "</style>\n",
       "<table border=\"1\" class=\"dataframe\">\n",
       "  <thead>\n",
       "    <tr style=\"text-align: right;\">\n",
       "      <th></th>\n",
       "      <th>Age (days)</th>\n",
       "      <th>#ofPosts</th>\n",
       "      <th>Posts/Day</th>\n",
       "      <th>OddsBeingBot</th>\n",
       "    </tr>\n",
       "  </thead>\n",
       "  <tbody>\n",
       "    <tr>\n",
       "      <th>0</th>\n",
       "      <td>4256</td>\n",
       "      <td>23279</td>\n",
       "      <td>5.469690</td>\n",
       "      <td>0.020441</td>\n",
       "    </tr>\n",
       "    <tr>\n",
       "      <th>1</th>\n",
       "      <td>4124</td>\n",
       "      <td>525</td>\n",
       "      <td>0.127304</td>\n",
       "      <td>0.073133</td>\n",
       "    </tr>\n",
       "    <tr>\n",
       "      <th>2</th>\n",
       "      <td>4313</td>\n",
       "      <td>8146</td>\n",
       "      <td>1.888709</td>\n",
       "      <td>0.041325</td>\n",
       "    </tr>\n",
       "    <tr>\n",
       "      <th>3</th>\n",
       "      <td>4226</td>\n",
       "      <td>3510</td>\n",
       "      <td>0.830573</td>\n",
       "      <td>0.014311</td>\n",
       "    </tr>\n",
       "    <tr>\n",
       "      <th>4</th>\n",
       "      <td>4351</td>\n",
       "      <td>8146</td>\n",
       "      <td>1.872213</td>\n",
       "      <td>0.058340</td>\n",
       "    </tr>\n",
       "  </tbody>\n",
       "</table>\n",
       "</div>"
      ],
      "text/plain": [
       "   Age (days)  #ofPosts  Posts/Day  OddsBeingBot\n",
       "0        4256     23279   5.469690      0.020441\n",
       "1        4124       525   0.127304      0.073133\n",
       "2        4313      8146   1.888709      0.041325\n",
       "3        4226      3510   0.830573      0.014311\n",
       "4        4351      8146   1.872213      0.058340"
      ]
     },
     "execution_count": 1,
     "metadata": {},
     "output_type": "execute_result"
    }
   ],
   "source": [
    "import matplotlib.pyplot as plt\n",
    "import pandas as pd\n",
    "import numpy as np\n",
    "df = pd.read_csv(\"updated.csv\", low_memory=False)\n",
    "df.head()"
   ]
  },
  {
   "cell_type": "code",
   "execution_count": 2,
   "id": "37c14fbd",
   "metadata": {
    "scrolled": true
   },
   "outputs": [
    {
     "data": {
      "text/plain": [
       "Age (days)        int64\n",
       "#ofPosts          int64\n",
       "Posts/Day       float64\n",
       "OddsBeingBot    float64\n",
       "dtype: object"
      ]
     },
     "execution_count": 2,
     "metadata": {},
     "output_type": "execute_result"
    }
   ],
   "source": [
    "df.dtypes"
   ]
  },
  {
   "cell_type": "code",
   "execution_count": 3,
   "id": "bc938bda",
   "metadata": {
    "scrolled": true
   },
   "outputs": [
    {
     "data": {
      "text/html": [
       "<div>\n",
       "<style scoped>\n",
       "    .dataframe tbody tr th:only-of-type {\n",
       "        vertical-align: middle;\n",
       "    }\n",
       "\n",
       "    .dataframe tbody tr th {\n",
       "        vertical-align: top;\n",
       "    }\n",
       "\n",
       "    .dataframe thead th {\n",
       "        text-align: right;\n",
       "    }\n",
       "</style>\n",
       "<table border=\"1\" class=\"dataframe\">\n",
       "  <thead>\n",
       "    <tr style=\"text-align: right;\">\n",
       "      <th></th>\n",
       "      <th>Age (days)</th>\n",
       "      <th>#ofPosts</th>\n",
       "      <th>OddsBeingBot</th>\n",
       "    </tr>\n",
       "  </thead>\n",
       "  <tbody>\n",
       "    <tr>\n",
       "      <th>0</th>\n",
       "      <td>4256</td>\n",
       "      <td>23279</td>\n",
       "      <td>0.020441</td>\n",
       "    </tr>\n",
       "    <tr>\n",
       "      <th>1</th>\n",
       "      <td>4124</td>\n",
       "      <td>525</td>\n",
       "      <td>0.073133</td>\n",
       "    </tr>\n",
       "    <tr>\n",
       "      <th>2</th>\n",
       "      <td>4313</td>\n",
       "      <td>8146</td>\n",
       "      <td>0.041325</td>\n",
       "    </tr>\n",
       "    <tr>\n",
       "      <th>3</th>\n",
       "      <td>4226</td>\n",
       "      <td>3510</td>\n",
       "      <td>0.014311</td>\n",
       "    </tr>\n",
       "    <tr>\n",
       "      <th>4</th>\n",
       "      <td>4351</td>\n",
       "      <td>8146</td>\n",
       "      <td>0.058340</td>\n",
       "    </tr>\n",
       "  </tbody>\n",
       "</table>\n",
       "</div>"
      ],
      "text/plain": [
       "   Age (days)  #ofPosts  OddsBeingBot\n",
       "0        4256     23279      0.020441\n",
       "1        4124       525      0.073133\n",
       "2        4313      8146      0.041325\n",
       "3        4226      3510      0.014311\n",
       "4        4351      8146      0.058340"
      ]
     },
     "execution_count": 3,
     "metadata": {},
     "output_type": "execute_result"
    }
   ],
   "source": [
    "df = df.drop('Posts/Day', axis=1)\n",
    "df.head()"
   ]
  },
  {
   "cell_type": "markdown",
   "id": "051b8303",
   "metadata": {},
   "source": [
    "## Viz"
   ]
  },
  {
   "cell_type": "markdown",
   "id": "b369946c",
   "metadata": {},
   "source": [
    "### Quick heatmap for correlation"
   ]
  },
  {
   "cell_type": "code",
   "execution_count": 4,
   "id": "2ecf0374",
   "metadata": {},
   "outputs": [
    {
     "data": {
      "text/plain": [
       "<AxesSubplot:>"
      ]
     },
     "execution_count": 4,
     "metadata": {},
     "output_type": "execute_result"
    },
    {
     "data": {
      "image/png": "[encoded data removed]",
      "text/plain": [
       "<Figure size 640x480 with 2 Axes>"
      ]
     },
     "metadata": {},
     "output_type": "display_data"
    }
   ],
   "source": [
    "import seaborn as sns\n",
    "corr = df.corr()\n",
    "sns.heatmap(corr, cmap = 'Blues', annot=True)"
   ]
  },
  {
   "cell_type": "markdown",
   "id": "4af005e9",
   "metadata": {},
   "source": [
    "#### Lots of weak correlations, time to model"
   ]
  },
  {
   "cell_type": "markdown",
   "id": "96fd91c5",
   "metadata": {},
   "source": [
    "## Modeling"
   ]
  },
  {
   "cell_type": "code",
   "execution_count": 5,
   "id": "c2e17584",
   "metadata": {},
   "outputs": [],
   "source": [
    "from sklearn.preprocessing import LabelEncoder, StandardScaler\n",
    "from sklearn.model_selection import train_test_split\n",
    "from sklearn.pipeline import make_pipeline\n",
    "from sklearn.metrics import classification_report\n",
    "from sklearn.preprocessing import StandardScaler, MinMaxScaler\n",
    "from sklearn.compose import make_column_selector, make_column_transformer\n",
    "from sklearn.tree import DecisionTreeRegressor"
   ]
  },
  {
   "cell_type": "markdown",
   "id": "ce717150",
   "metadata": {},
   "source": [
    "### Mean avg, squared, and r squared scores function"
   ]
  },
  {
   "cell_type": "code",
   "execution_count": 6,
   "id": "7285076d",
   "metadata": {},
   "outputs": [],
   "source": [
    "from sklearn.metrics import mean_squared_error, mean_absolute_error, r2_score\n",
    "def eval(y_true, y_pred):  \n",
    "  mae = mean_absolute_error(y_true, y_pred)\n",
    "  mse = mean_squared_error(y_true, y_pred)\n",
    "  rmse = np.sqrt(mse)\n",
    "  r2 = r2_score(y_true, y_pred)\n",
    "\n",
    "  print(f'scores: \\nMAE: {mae:,.2f} \\nMSE: {mse:,.2f} \\nRMSE: {rmse:,.2f} \\nR2: {r2:.2f}')"
   ]
  },
  {
   "cell_type": "markdown",
   "id": "ee86ff0d",
   "metadata": {},
   "source": [
    "### Train Test Split"
   ]
  },
  {
   "cell_type": "code",
   "execution_count": 7,
   "id": "aeaa1bdd",
   "metadata": {},
   "outputs": [],
   "source": [
    "X = df.drop(columns=['OddsBeingBot'])\n",
    "y = df['OddsBeingBot']\n",
    "X_train, X_test, y_train, y_test = train_test_split(X, y, random_state=42)\n",
    "scaler = StandardScaler()"
   ]
  },
  {
   "cell_type": "code",
   "execution_count": 8,
   "id": "29bc9495",
   "metadata": {},
   "outputs": [],
   "source": [
    "X_train = scaler.fit_transform(X_train)\n",
    "X_test = scaler.transform(X_test)"
   ]
  },
  {
   "cell_type": "markdown",
   "id": "5d118819",
   "metadata": {},
   "source": [
    "### Decision Tree"
   ]
  },
  {
   "cell_type": "code",
   "execution_count": 9,
   "id": "2f14b7aa",
   "metadata": {},
   "outputs": [
    {
     "name": "stdout",
     "output_type": "stream",
     "text": [
      "Train\n",
      "scores: \n",
      "MAE: 0.00 \n",
      "MSE: 0.00 \n",
      "RMSE: 0.01 \n",
      "R2: 1.00\n",
      "Test\n",
      "scores: \n",
      "MAE: 0.23 \n",
      "MSE: 0.12 \n",
      "RMSE: 0.34 \n",
      "R2: -1.02\n"
     ]
    }
   ],
   "source": [
    "dec_tree = DecisionTreeRegressor(random_state = 42)\n",
    "dec_pipe = make_pipeline(scaler, dec_tree)\n",
    "dec_pipe.fit(X_train, y_train)\n",
    "print('Train')\n",
    "eval(y_train, dec_pipe.predict(X_train))\n",
    "print('Test')\n",
    "eval(y_test, dec_pipe.predict(X_test))"
   ]
  },
  {
   "cell_type": "markdown",
   "id": "7086912a",
   "metadata": {},
   "source": [
    "### Tuning, these are bad scores"
   ]
  },
  {
   "cell_type": "code",
   "execution_count": 10,
   "id": "835e5f52",
   "metadata": {},
   "outputs": [
    {
     "data": {
      "text/plain": [
       "{'memory': None,\n",
       " 'steps': [('standardscaler', StandardScaler()),\n",
       "  ('decisiontreeregressor', DecisionTreeRegressor(random_state=42))],\n",
       " 'verbose': False,\n",
       " 'standardscaler': StandardScaler(),\n",
       " 'decisiontreeregressor': DecisionTreeRegressor(random_state=42),\n",
       " 'standardscaler__copy': True,\n",
       " 'standardscaler__with_mean': True,\n",
       " 'standardscaler__with_std': True,\n",
       " 'decisiontreeregressor__ccp_alpha': 0.0,\n",
       " 'decisiontreeregressor__criterion': 'squared_error',\n",
       " 'decisiontreeregressor__max_depth': None,\n",
       " 'decisiontreeregressor__max_features': None,\n",
       " 'decisiontreeregressor__max_leaf_nodes': None,\n",
       " 'decisiontreeregressor__min_impurity_decrease': 0.0,\n",
       " 'decisiontreeregressor__min_samples_leaf': 1,\n",
       " 'decisiontreeregressor__min_samples_split': 2,\n",
       " 'decisiontreeregressor__min_weight_fraction_leaf': 0.0,\n",
       " 'decisiontreeregressor__random_state': 42,\n",
       " 'decisiontreeregressor__splitter': 'best'}"
      ]
     },
     "execution_count": 10,
     "metadata": {},
     "output_type": "execute_result"
    }
   ],
   "source": [
    "dec_pipe.get_params()"
   ]
  },
  {
   "cell_type": "markdown",
   "id": "f43d2bd2",
   "metadata": {},
   "source": [
    "#### We'll be tuning with max_leaf_nodes, min_samples_leaf, and max_depth"
   ]
  },
  {
   "cell_type": "code",
   "execution_count": 11,
   "id": "acfa1499",
   "metadata": {},
   "outputs": [
    {
     "data": {
      "text/html": [
       "<div>\n",
       "<style scoped>\n",
       "    .dataframe tbody tr th:only-of-type {\n",
       "        vertical-align: middle;\n",
       "    }\n",
       "\n",
       "    .dataframe tbody tr th {\n",
       "        vertical-align: top;\n",
       "    }\n",
       "\n",
       "    .dataframe thead th {\n",
       "        text-align: right;\n",
       "    }\n",
       "</style>\n",
       "<table border=\"1\" class=\"dataframe\">\n",
       "  <thead>\n",
       "    <tr style=\"text-align: right;\">\n",
       "      <th></th>\n",
       "      <th>Test Score</th>\n",
       "      <th>Train Score</th>\n",
       "    </tr>\n",
       "  </thead>\n",
       "  <tbody>\n",
       "    <tr>\n",
       "      <th>2</th>\n",
       "      <td>0.02287</td>\n",
       "      <td>0.01479</td>\n",
       "    </tr>\n",
       "    <tr>\n",
       "      <th>3</th>\n",
       "      <td>0.022431</td>\n",
       "      <td>0.01895</td>\n",
       "    </tr>\n",
       "    <tr>\n",
       "      <th>4</th>\n",
       "      <td>0.017351</td>\n",
       "      <td>0.02466</td>\n",
       "    </tr>\n",
       "    <tr>\n",
       "      <th>5</th>\n",
       "      <td>0.011792</td>\n",
       "      <td>0.035708</td>\n",
       "    </tr>\n",
       "    <tr>\n",
       "      <th>6</th>\n",
       "      <td>-0.005236</td>\n",
       "      <td>0.04982</td>\n",
       "    </tr>\n",
       "  </tbody>\n",
       "</table>\n",
       "</div>"
      ],
      "text/plain": [
       "  Test Score Train Score\n",
       "2    0.02287     0.01479\n",
       "3   0.022431     0.01895\n",
       "4   0.017351     0.02466\n",
       "5   0.011792    0.035708\n",
       "6  -0.005236     0.04982"
      ]
     },
     "execution_count": 11,
     "metadata": {},
     "output_type": "execute_result"
    },
    {
     "data": {
      "image/png": "[encoded data removed]",
      "text/plain": [
       "<Figure size 640x480 with 1 Axes>"
      ]
     },
     "metadata": {},
     "output_type": "display_data"
    }
   ],
   "source": [
    "depths = list(range(2, 40))\n",
    "scores = pd.DataFrame(index=depths, columns=['Test Score','Train Score'])\n",
    "for depth in depths:\n",
    "    dec_tree = DecisionTreeRegressor(max_depth=depth, random_state=42)\n",
    "    dec_tree.fit(X_train, y_train)\n",
    "    train_score = dec_tree.score(X_train, y_train)\n",
    "    test_score = dec_tree.score(X_test, y_test)\n",
    "    scores.loc[depth, 'Train Score'] = train_score\n",
    "    scores.loc[depth, 'Test Score'] = test_score\n",
    "plt.plot(depths, scores['Test Score'])\n",
    "plt.xlabel('max_depth')\n",
    "plt.ylabel('R2');\n",
    "sorted_scores = scores.sort_values(by='Test Score', ascending=False)\n",
    "sorted_scores.head()"
   ]
  },
  {
   "cell_type": "markdown",
   "id": "1cfc16fe",
   "metadata": {},
   "source": [
    "2 is the best depth"
   ]
  },
  {
   "cell_type": "code",
   "execution_count": 12,
   "id": "7931dcdf",
   "metadata": {},
   "outputs": [
    {
     "name": "stdout",
     "output_type": "stream",
     "text": [
      "Training\n",
      "scores: \n",
      "MAE: 0.18 \n",
      "MSE: 0.06 \n",
      "RMSE: 0.24 \n",
      "R2: 0.01\n",
      "Testing\n",
      "scores: \n",
      "MAE: 0.18 \n",
      "MSE: 0.06 \n",
      "RMSE: 0.24 \n",
      "R2: 0.02\n"
     ]
    }
   ],
   "source": [
    "dec_tree_fin = DecisionTreeRegressor(max_depth = 2, random_state = 42)\n",
    "dec_tree_fin.fit(X_train, y_train)\n",
    "print('Training')\n",
    "eval(y_train, dec_tree_fin.predict(X_train))\n",
    "print('Testing')\n",
    "eval(y_test, dec_tree_fin.predict(X_test))"
   ]
  },
  {
   "cell_type": "code",
   "execution_count": 13,
   "id": "fe370346",
   "metadata": {},
   "outputs": [
    {
     "data": {
      "text/html": [
       "<div>\n",
       "<style scoped>\n",
       "    .dataframe tbody tr th:only-of-type {\n",
       "        vertical-align: middle;\n",
       "    }\n",
       "\n",
       "    .dataframe tbody tr th {\n",
       "        vertical-align: top;\n",
       "    }\n",
       "\n",
       "    .dataframe thead th {\n",
       "        text-align: right;\n",
       "    }\n",
       "</style>\n",
       "<table border=\"1\" class=\"dataframe\">\n",
       "  <thead>\n",
       "    <tr style=\"text-align: right;\">\n",
       "      <th></th>\n",
       "      <th>Test Score</th>\n",
       "      <th>Train Score</th>\n",
       "    </tr>\n",
       "  </thead>\n",
       "  <tbody>\n",
       "    <tr>\n",
       "      <th>2</th>\n",
       "      <td>0.02287</td>\n",
       "      <td>0.01479</td>\n",
       "    </tr>\n",
       "    <tr>\n",
       "      <th>30</th>\n",
       "      <td>0.02287</td>\n",
       "      <td>0.01479</td>\n",
       "    </tr>\n",
       "    <tr>\n",
       "      <th>23</th>\n",
       "      <td>0.02287</td>\n",
       "      <td>0.01479</td>\n",
       "    </tr>\n",
       "    <tr>\n",
       "      <th>24</th>\n",
       "      <td>0.02287</td>\n",
       "      <td>0.01479</td>\n",
       "    </tr>\n",
       "    <tr>\n",
       "      <th>25</th>\n",
       "      <td>0.02287</td>\n",
       "      <td>0.01479</td>\n",
       "    </tr>\n",
       "  </tbody>\n",
       "</table>\n",
       "</div>"
      ],
      "text/plain": [
       "   Test Score Train Score\n",
       "2     0.02287     0.01479\n",
       "30    0.02287     0.01479\n",
       "23    0.02287     0.01479\n",
       "24    0.02287     0.01479\n",
       "25    0.02287     0.01479"
      ]
     },
     "execution_count": 13,
     "metadata": {},
     "output_type": "execute_result"
    },
    {
     "data": {
      "image/png": "[encoded data removed]",
      "text/plain": [
       "<Figure size 640x480 with 1 Axes>"
      ]
     },
     "metadata": {},
     "output_type": "display_data"
    }
   ],
   "source": [
    "samples = list(range(2, 40))\n",
    "scores2 = pd.DataFrame(index=samples, columns=['Test Score','Train Score'])\n",
    "for sample in samples:\n",
    "    dec_tree_fin = DecisionTreeRegressor(min_samples_leaf=sample, max_depth = 2, random_state=42)\n",
    "    dec_tree_fin.fit(X_train, y_train)\n",
    "    train_score = dec_tree_fin.score(X_train, y_train)\n",
    "    test_score = dec_tree_fin.score(X_test, y_test)\n",
    "    scores2.loc[sample, 'Train Score'] = train_score\n",
    "    scores2.loc[sample, 'Test Score'] = test_score\n",
    "plt.plot(samples, scores2['Test Score'])\n",
    "plt.xlabel('min_samples_leaf')\n",
    "plt.ylabel('R2');\n",
    "sorted_scores2 = scores2.sort_values(by='Test Score', ascending=False)\n",
    "sorted_scores2.head()"
   ]
  },
  {
   "cell_type": "markdown",
   "id": "1ca3339b",
   "metadata": {},
   "source": [
    "All the same"
   ]
  },
  {
   "cell_type": "code",
   "execution_count": 14,
   "id": "62f3c2d6",
   "metadata": {},
   "outputs": [
    {
     "data": {
      "text/html": [
       "<div>\n",
       "<style scoped>\n",
       "    .dataframe tbody tr th:only-of-type {\n",
       "        vertical-align: middle;\n",
       "    }\n",
       "\n",
       "    .dataframe tbody tr th {\n",
       "        vertical-align: top;\n",
       "    }\n",
       "\n",
       "    .dataframe thead th {\n",
       "        text-align: right;\n",
       "    }\n",
       "</style>\n",
       "<table border=\"1\" class=\"dataframe\">\n",
       "  <thead>\n",
       "    <tr style=\"text-align: right;\">\n",
       "      <th></th>\n",
       "      <th>Test Score</th>\n",
       "      <th>Train Score</th>\n",
       "    </tr>\n",
       "  </thead>\n",
       "  <tbody>\n",
       "    <tr>\n",
       "      <th>21</th>\n",
       "      <td>0.02287</td>\n",
       "      <td>0.01479</td>\n",
       "    </tr>\n",
       "    <tr>\n",
       "      <th>22</th>\n",
       "      <td>0.02287</td>\n",
       "      <td>0.01479</td>\n",
       "    </tr>\n",
       "    <tr>\n",
       "      <th>24</th>\n",
       "      <td>0.02287</td>\n",
       "      <td>0.01479</td>\n",
       "    </tr>\n",
       "    <tr>\n",
       "      <th>25</th>\n",
       "      <td>0.02287</td>\n",
       "      <td>0.01479</td>\n",
       "    </tr>\n",
       "    <tr>\n",
       "      <th>26</th>\n",
       "      <td>0.02287</td>\n",
       "      <td>0.01479</td>\n",
       "    </tr>\n",
       "  </tbody>\n",
       "</table>\n",
       "</div>"
      ],
      "text/plain": [
       "   Test Score Train Score\n",
       "21    0.02287     0.01479\n",
       "22    0.02287     0.01479\n",
       "24    0.02287     0.01479\n",
       "25    0.02287     0.01479\n",
       "26    0.02287     0.01479"
      ]
     },
     "execution_count": 14,
     "metadata": {},
     "output_type": "execute_result"
    },
    {
     "data": {
      "image/png": "[encoded data removed]",
      "text/plain": [
       "<Figure size 640x480 with 1 Axes>"
      ]
     },
     "metadata": {},
     "output_type": "display_data"
    }
   ],
   "source": [
    "leaves = list(range(2, 40))\n",
    "scores3 = pd.DataFrame(index=leaves, columns=['Test Score','Train Score'])\n",
    "for leaf in leaves:\n",
    "    dec_tree_fin = DecisionTreeRegressor(max_leaf_nodes=leaf, max_depth = 2, random_state=42)\n",
    "    dec_tree_fin.fit(X_train, y_train)\n",
    "    train_score = dec_tree_fin.score(X_train, y_train)\n",
    "    test_score = dec_tree_fin.score(X_test, y_test)\n",
    "    scores3.loc[leaf, 'Train Score'] = train_score\n",
    "    scores3.loc[leaf, 'Test Score'] = test_score\n",
    "plt.plot(leaves, scores3['Test Score'])\n",
    "plt.xlabel('max_leaf_nodes')\n",
    "plt.ylabel('R2');\n",
    "sorted_scores3 = scores3.sort_values(by='Test Score', ascending=False)\n",
    "sorted_scores3.head()"
   ]
  },
  {
   "cell_type": "markdown",
   "id": "0d6b5255",
   "metadata": {},
   "source": [
    "Anything above 5 is the same"
   ]
  },
  {
   "cell_type": "code",
   "execution_count": 15,
   "id": "5fd14a09",
   "metadata": {},
   "outputs": [
    {
     "name": "stdout",
     "output_type": "stream",
     "text": [
      "Train\n",
      "scores: \n",
      "MAE: 0.18 \n",
      "MSE: 0.06 \n",
      "RMSE: 0.24 \n",
      "R2: 0.01\n",
      "Test\n",
      "scores: \n",
      "MAE: 0.18 \n",
      "MSE: 0.06 \n",
      "RMSE: 0.24 \n",
      "R2: 0.02\n"
     ]
    }
   ],
   "source": [
    "dec_tree_fin = DecisionTreeRegressor(max_leaf_nodes = 26, max_depth = 2, random_state = 42)\n",
    "dec_tree_fin.fit(X_train, y_train)\n",
    "print('Train')\n",
    "eval(y_train, dec_tree_fin.predict(X_train))\n",
    "print('Test')\n",
    "eval(y_test, dec_tree_fin.predict(X_test))"
   ]
  },
  {
   "cell_type": "markdown",
   "id": "76d223a7",
   "metadata": {},
   "source": [
    "### Going to do a grid search to see if that gives us better results"
   ]
  },
  {
   "cell_type": "code",
   "execution_count": 16,
   "id": "891a1ea9",
   "metadata": {},
   "outputs": [],
   "source": [
    "from sklearn.model_selection import GridSearchCV"
   ]
  },
  {
   "cell_type": "code",
   "execution_count": 17,
   "id": "7699842b",
   "metadata": {
    "scrolled": true
   },
   "outputs": [
    {
     "data": {
      "text/plain": [
       "{'max_leaf_nodes': 5, 'min_samples_leaf': 40}"
      ]
     },
     "execution_count": 17,
     "metadata": {},
     "output_type": "execute_result"
    }
   ],
   "source": [
    "model1 = DecisionTreeRegressor(random_state=42)\n",
    "param_grid1 = {'max_leaf_nodes': [5,10,15,20,25,30,35,40],\n",
    "               'min_samples_leaf': [5,10,15,20,25,30,35,40]}\n",
    "grid_search1 = GridSearchCV(model1, param_grid1)\n",
    "grid_search1.fit(X_train, y_train)\n",
    "grid_search1.best_params_"
   ]
  },
  {
   "cell_type": "code",
   "execution_count": 18,
   "id": "77d6e0b0",
   "metadata": {},
   "outputs": [
    {
     "name": "stdout",
     "output_type": "stream",
     "text": [
      "Train\n",
      "scores: \n",
      "MAE: 0.18 \n",
      "MSE: 0.06 \n",
      "RMSE: 0.24 \n",
      "R2: 0.02\n",
      "Test\n",
      "scores: \n",
      "MAE: 0.18 \n",
      "MSE: 0.06 \n",
      "RMSE: 0.24 \n",
      "R2: 0.02\n"
     ]
    }
   ],
   "source": [
    "dec_tree_grid = DecisionTreeRegressor(max_leaf_nodes = 5, min_samples_leaf = 40, random_state = 42)\n",
    "dec_tree_grid.fit(X_train, y_train)\n",
    "print('Train')\n",
    "eval(y_train, dec_tree_grid.predict(X_train))\n",
    "print('Test')\n",
    "eval(y_test, dec_tree_grid.predict(X_test))"
   ]
  },
  {
   "cell_type": "markdown",
   "id": "1404fc4b",
   "metadata": {},
   "source": [
    "## This model is really weak, have to try some other things.  Maybe neural net, but first try bagging regressor or random forest"
   ]
  },
  {
   "cell_type": "code",
   "execution_count": 19,
   "id": "5fa24c7c",
   "metadata": {},
   "outputs": [],
   "source": [
    "from sklearn.ensemble import BaggingRegressor, RandomForestRegressor"
   ]
  },
  {
   "cell_type": "code",
   "execution_count": 20,
   "id": "6a66689a",
   "metadata": {},
   "outputs": [],
   "source": [
    "bagreg = BaggingRegressor(random_state = 42)"
   ]
  },
  {
   "cell_type": "code",
   "execution_count": 21,
   "id": "a4dde3eb",
   "metadata": {},
   "outputs": [
    {
     "data": {
      "text/html": [
       "<style>#sk-container-id-1 {color: black;background-color: white;}#sk-container-id-1 pre{padding: 0;}#sk-container-id-1 div.sk-toggleable {background-color: white;}#sk-container-id-1 label.sk-toggleable__label {cursor: pointer;display: block;width: 100%;margin-bottom: 0;padding: 0.3em;box-sizing: border-box;text-align: center;}#sk-container-id-1 label.sk-toggleable__label-arrow:before {content: \"▸\";float: left;margin-right: 0.25em;color: #696969;}#sk-container-id-1 label.sk-toggleable__label-arrow:hover:before {color: black;}#sk-container-id-1 div.sk-estimator:hover label.sk-toggleable__label-arrow:before {color: black;}#sk-container-id-1 div.sk-toggleable__content {max-height: 0;max-width: 0;overflow: hidden;text-align: left;background-color: #f0f8ff;}#sk-container-id-1 div.sk-toggleable__content pre {margin: 0.2em;color: black;border-radius: 0.25em;background-color: #f0f8ff;}#sk-container-id-1 input.sk-toggleable__control:checked~div.sk-toggleable__content {max-height: 200px;max-width: 100%;overflow: auto;}#sk-container-id-1 input.sk-toggleable__control:checked~label.sk-toggleable__label-arrow:before {content: \"▾\";}#sk-container-id-1 div.sk-estimator input.sk-toggleable__control:checked~label.sk-toggleable__label {background-color: #d4ebff;}#sk-container-id-1 div.sk-label input.sk-toggleable__control:checked~label.sk-toggleable__label {background-color: #d4ebff;}#sk-container-id-1 input.sk-hidden--visually {border: 0;clip: rect(1px 1px 1px 1px);clip: rect(1px, 1px, 1px, 1px);height: 1px;margin: -1px;overflow: hidden;padding: 0;position: absolute;width: 1px;}#sk-container-id-1 div.sk-estimator {font-family: monospace;background-color: #f0f8ff;border: 1px dotted black;border-radius: 0.25em;box-sizing: border-box;margin-bottom: 0.5em;}#sk-container-id-1 div.sk-estimator:hover {background-color: #d4ebff;}#sk-container-id-1 div.sk-parallel-item::after {content: \"\";width: 100%;border-bottom: 1px solid gray;flex-grow: 1;}#sk-container-id-1 div.sk-label:hover label.sk-toggleable__label {background-color: #d4ebff;}#sk-container-id-1 div.sk-serial::before {content: \"\";position: absolute;border-left: 1px solid gray;box-sizing: border-box;top: 0;bottom: 0;left: 50%;z-index: 0;}#sk-container-id-1 div.sk-serial {display: flex;flex-direction: column;align-items: center;background-color: white;padding-right: 0.2em;padding-left: 0.2em;position: relative;}#sk-container-id-1 div.sk-item {position: relative;z-index: 1;}#sk-container-id-1 div.sk-parallel {display: flex;align-items: stretch;justify-content: center;background-color: white;position: relative;}#sk-container-id-1 div.sk-item::before, #sk-container-id-1 div.sk-parallel-item::before {content: \"\";position: absolute;border-left: 1px solid gray;box-sizing: border-box;top: 0;bottom: 0;left: 50%;z-index: -1;}#sk-container-id-1 div.sk-parallel-item {display: flex;flex-direction: column;z-index: 1;position: relative;background-color: white;}#sk-container-id-1 div.sk-parallel-item:first-child::after {align-self: flex-end;width: 50%;}#sk-container-id-1 div.sk-parallel-item:last-child::after {align-self: flex-start;width: 50%;}#sk-container-id-1 div.sk-parallel-item:only-child::after {width: 0;}#sk-container-id-1 div.sk-dashed-wrapped {border: 1px dashed gray;margin: 0 0.4em 0.5em 0.4em;box-sizing: border-box;padding-bottom: 0.4em;background-color: white;}#sk-container-id-1 div.sk-label label {font-family: monospace;font-weight: bold;display: inline-block;line-height: 1.2em;}#sk-container-id-1 div.sk-label-container {text-align: center;}#sk-container-id-1 div.sk-container {/* jupyter's `normalize.less` sets `[hidden] { display: none; }` but bootstrap.min.css set `[hidden] { display: none !important; }` so we also need the `!important` here to be able to override the default hidden behavior on the sphinx rendered scikit-learn.org. See: https://github.com/scikit-learn/scikit-learn/issues/21755 */display: inline-block !important;position: relative;}#sk-container-id-1 div.sk-text-repr-fallback {display: none;}</style><div id=\"sk-container-id-1\" class=\"sk-top-container\"><div class=\"sk-text-repr-fallback\"><pre>Pipeline(steps=[(&#x27;standardscaler&#x27;, StandardScaler()),\n",
       "                (&#x27;decisiontreeregressor&#x27;,\n",
       "                 DecisionTreeRegressor(random_state=42))])</pre><b>In a Jupyter environment, please rerun this cell to show the HTML representation or trust the notebook. <br />On GitHub, the HTML representation is unable to render, please try loading this page with nbviewer.org.</b></div><div class=\"sk-container\" hidden><div class=\"sk-item sk-dashed-wrapped\"><div class=\"sk-label-container\"><div class=\"sk-label sk-toggleable\"><input class=\"sk-toggleable__control sk-hidden--visually\" id=\"sk-estimator-id-1\" type=\"checkbox\" ><label for=\"sk-estimator-id-1\" class=\"sk-toggleable__label sk-toggleable__label-arrow\">Pipeline</label><div class=\"sk-toggleable__content\"><pre>Pipeline(steps=[(&#x27;standardscaler&#x27;, StandardScaler()),\n",
       "                (&#x27;decisiontreeregressor&#x27;,\n",
       "                 DecisionTreeRegressor(random_state=42))])</pre></div></div></div><div class=\"sk-serial\"><div class=\"sk-item\"><div class=\"sk-estimator sk-toggleable\"><input class=\"sk-toggleable__control sk-hidden--visually\" id=\"sk-estimator-id-2\" type=\"checkbox\" ><label for=\"sk-estimator-id-2\" class=\"sk-toggleable__label sk-toggleable__label-arrow\">StandardScaler</label><div class=\"sk-toggleable__content\"><pre>StandardScaler()</pre></div></div></div><div class=\"sk-item\"><div class=\"sk-estimator sk-toggleable\"><input class=\"sk-toggleable__control sk-hidden--visually\" id=\"sk-estimator-id-3\" type=\"checkbox\" ><label for=\"sk-estimator-id-3\" class=\"sk-toggleable__label sk-toggleable__label-arrow\">DecisionTreeRegressor</label><div class=\"sk-toggleable__content\"><pre>DecisionTreeRegressor(random_state=42)</pre></div></div></div></div></div></div></div>"
      ],
      "text/plain": [
       "Pipeline(steps=[('standardscaler', StandardScaler()),\n",
       "                ('decisiontreeregressor',\n",
       "                 DecisionTreeRegressor(random_state=42))])"
      ]
     },
     "execution_count": 21,
     "metadata": {},
     "output_type": "execute_result"
    }
   ],
   "source": [
    "bagreg = DecisionTreeRegressor(random_state = 42)\n",
    "bag_pipe = make_pipeline(scaler, bagreg)\n",
    "bag_pipe.fit(X_train, y_train)"
   ]
  },
  {
   "cell_type": "code",
   "execution_count": 22,
   "id": "25c3c634",
   "metadata": {},
   "outputs": [
    {
     "name": "stdout",
     "output_type": "stream",
     "text": [
      "Train\n",
      "scores: \n",
      "MAE: 0.00 \n",
      "MSE: 0.00 \n",
      "RMSE: 0.01 \n",
      "R2: 1.00\n",
      "Test\n",
      "scores: \n",
      "MAE: 0.23 \n",
      "MSE: 0.12 \n",
      "RMSE: 0.34 \n",
      "R2: -1.02\n"
     ]
    }
   ],
   "source": [
    "bagreg_train_score = bagreg.score(X_train, y_train)\n",
    "bagreg_test_score = bagreg.score(X_test, y_test)\n",
    "print('Train')\n",
    "eval(y_train, bagreg.predict(X_train))\n",
    "print('Test')\n",
    "eval(y_test, bagreg.predict(X_test))"
   ]
  },
  {
   "cell_type": "markdown",
   "id": "90f9f73b",
   "metadata": {},
   "source": [
    "As expected this model is similarly weak, but we can practice tuning."
   ]
  },
  {
   "cell_type": "code",
   "execution_count": 23,
   "id": "5e45898b",
   "metadata": {},
   "outputs": [
    {
     "data": {
      "text/plain": [
       "{'ccp_alpha': 0.0,\n",
       " 'criterion': 'squared_error',\n",
       " 'max_depth': None,\n",
       " 'max_features': None,\n",
       " 'max_leaf_nodes': None,\n",
       " 'min_impurity_decrease': 0.0,\n",
       " 'min_samples_leaf': 1,\n",
       " 'min_samples_split': 2,\n",
       " 'min_weight_fraction_leaf': 0.0,\n",
       " 'random_state': 42,\n",
       " 'splitter': 'best'}"
      ]
     },
     "execution_count": 23,
     "metadata": {},
     "output_type": "execute_result"
    }
   ],
   "source": [
    "bagreg.get_params()"
   ]
  },
  {
   "cell_type": "code",
   "execution_count": 24,
   "id": "a1998857",
   "metadata": {
    "scrolled": false
   },
   "outputs": [
    {
     "data": {
      "image/png": "[encoded data removed]",
      "text/plain": [
       "<Figure size 640x480 with 1 Axes>"
      ]
     },
     "metadata": {},
     "output_type": "display_data"
    },
    {
     "data": {
      "text/html": [
       "<div>\n",
       "<style scoped>\n",
       "    .dataframe tbody tr th:only-of-type {\n",
       "        vertical-align: middle;\n",
       "    }\n",
       "\n",
       "    .dataframe tbody tr th {\n",
       "        vertical-align: top;\n",
       "    }\n",
       "\n",
       "    .dataframe thead th {\n",
       "        text-align: right;\n",
       "    }\n",
       "</style>\n",
       "<table border=\"1\" class=\"dataframe\">\n",
       "  <thead>\n",
       "    <tr style=\"text-align: right;\">\n",
       "      <th></th>\n",
       "      <th>Train Score</th>\n",
       "      <th>Test Score</th>\n",
       "    </tr>\n",
       "  </thead>\n",
       "  <tbody>\n",
       "    <tr>\n",
       "      <th>90</th>\n",
       "      <td>0.830826</td>\n",
       "      <td>-0.170974</td>\n",
       "    </tr>\n",
       "    <tr>\n",
       "      <th>100</th>\n",
       "      <td>0.831026</td>\n",
       "      <td>-0.173126</td>\n",
       "    </tr>\n",
       "    <tr>\n",
       "      <th>80</th>\n",
       "      <td>0.829374</td>\n",
       "      <td>-0.174311</td>\n",
       "    </tr>\n",
       "    <tr>\n",
       "      <th>60</th>\n",
       "      <td>0.826683</td>\n",
       "      <td>-0.174506</td>\n",
       "    </tr>\n",
       "    <tr>\n",
       "      <th>70</th>\n",
       "      <td>0.828214</td>\n",
       "      <td>-0.174531</td>\n",
       "    </tr>\n",
       "    <tr>\n",
       "      <th>50</th>\n",
       "      <td>0.825386</td>\n",
       "      <td>-0.18051</td>\n",
       "    </tr>\n",
       "    <tr>\n",
       "      <th>40</th>\n",
       "      <td>0.821927</td>\n",
       "      <td>-0.182413</td>\n",
       "    </tr>\n",
       "    <tr>\n",
       "      <th>30</th>\n",
       "      <td>0.817193</td>\n",
       "      <td>-0.193389</td>\n",
       "    </tr>\n",
       "    <tr>\n",
       "      <th>20</th>\n",
       "      <td>0.806372</td>\n",
       "      <td>-0.201013</td>\n",
       "    </tr>\n",
       "    <tr>\n",
       "      <th>10</th>\n",
       "      <td>0.774301</td>\n",
       "      <td>-0.228747</td>\n",
       "    </tr>\n",
       "  </tbody>\n",
       "</table>\n",
       "</div>"
      ],
      "text/plain": [
       "    Train Score Test Score\n",
       "90     0.830826  -0.170974\n",
       "100    0.831026  -0.173126\n",
       "80     0.829374  -0.174311\n",
       "60     0.826683  -0.174506\n",
       "70     0.828214  -0.174531\n",
       "50     0.825386   -0.18051\n",
       "40     0.821927  -0.182413\n",
       "30     0.817193  -0.193389\n",
       "20     0.806372  -0.201013\n",
       "10     0.774301  -0.228747"
      ]
     },
     "execution_count": 24,
     "metadata": {},
     "output_type": "execute_result"
    }
   ],
   "source": [
    "estimators = [10, 20, 30, 40, 50, 60, 70, 80, 90, 100]\n",
    "bag_scores = pd.DataFrame(index=estimators, columns=['Train Score', 'Test Score'])\n",
    "for num_estimators in estimators:\n",
    "   bag_reg = BaggingRegressor(n_estimators=num_estimators, random_state=42)\n",
    "   bag_reg.fit(X_train, y_train)\n",
    "   bag_train_score = bag_reg.score(X_train, y_train)\n",
    "   bag_test_score = bag_reg.score(X_test, y_test)\n",
    "   bag_scores.loc[num_estimators, 'Train Score'] = bag_train_score\n",
    "   bag_scores.loc[num_estimators, 'Test Score'] = bag_test_score\n",
    "\n",
    "plt.xlabel('Estimators')\n",
    "plt.ylabel('R2');\n",
    "plt.plot(bag_scores['Test Score'])\n",
    "plt.show()\n",
    "bag_scores = bag_scores.sort_values(by='Test Score', ascending=False)\n",
    "bag_scores"
   ]
  },
  {
   "cell_type": "code",
   "execution_count": 25,
   "id": "b3c78331",
   "metadata": {},
   "outputs": [
    {
     "data": {
      "image/png": "[encoded data removed]",
      "text/plain": [
       "<Figure size 640x480 with 1 Axes>"
      ]
     },
     "metadata": {},
     "output_type": "display_data"
    },
    {
     "data": {
      "text/html": [
       "<div>\n",
       "<style scoped>\n",
       "    .dataframe tbody tr th:only-of-type {\n",
       "        vertical-align: middle;\n",
       "    }\n",
       "\n",
       "    .dataframe tbody tr th {\n",
       "        vertical-align: top;\n",
       "    }\n",
       "\n",
       "    .dataframe thead th {\n",
       "        text-align: right;\n",
       "    }\n",
       "</style>\n",
       "<table border=\"1\" class=\"dataframe\">\n",
       "  <thead>\n",
       "    <tr style=\"text-align: right;\">\n",
       "      <th></th>\n",
       "      <th>Train Score</th>\n",
       "      <th>Test Score</th>\n",
       "    </tr>\n",
       "  </thead>\n",
       "  <tbody>\n",
       "    <tr>\n",
       "      <th>50</th>\n",
       "      <td>-0.068685</td>\n",
       "      <td>-0.084852</td>\n",
       "    </tr>\n",
       "    <tr>\n",
       "      <th>100</th>\n",
       "      <td>-0.056062</td>\n",
       "      <td>-0.08623</td>\n",
       "    </tr>\n",
       "    <tr>\n",
       "      <th>60</th>\n",
       "      <td>-0.093767</td>\n",
       "      <td>-0.098186</td>\n",
       "    </tr>\n",
       "    <tr>\n",
       "      <th>80</th>\n",
       "      <td>-0.092393</td>\n",
       "      <td>-0.099967</td>\n",
       "    </tr>\n",
       "    <tr>\n",
       "      <th>10</th>\n",
       "      <td>-0.077824</td>\n",
       "      <td>-0.102988</td>\n",
       "    </tr>\n",
       "    <tr>\n",
       "      <th>90</th>\n",
       "      <td>-0.090102</td>\n",
       "      <td>-0.103021</td>\n",
       "    </tr>\n",
       "    <tr>\n",
       "      <th>70</th>\n",
       "      <td>-0.087891</td>\n",
       "      <td>-0.114034</td>\n",
       "    </tr>\n",
       "    <tr>\n",
       "      <th>40</th>\n",
       "      <td>-0.08719</td>\n",
       "      <td>-0.116442</td>\n",
       "    </tr>\n",
       "    <tr>\n",
       "      <th>30</th>\n",
       "      <td>-0.101428</td>\n",
       "      <td>-0.135024</td>\n",
       "    </tr>\n",
       "    <tr>\n",
       "      <th>20</th>\n",
       "      <td>-0.123729</td>\n",
       "      <td>-0.148769</td>\n",
       "    </tr>\n",
       "  </tbody>\n",
       "</table>\n",
       "</div>"
      ],
      "text/plain": [
       "    Train Score Test Score\n",
       "50    -0.068685  -0.084852\n",
       "100   -0.056062   -0.08623\n",
       "60    -0.093767  -0.098186\n",
       "80    -0.092393  -0.099967\n",
       "10    -0.077824  -0.102988\n",
       "90    -0.090102  -0.103021\n",
       "70    -0.087891  -0.114034\n",
       "40     -0.08719  -0.116442\n",
       "30    -0.101428  -0.135024\n",
       "20    -0.123729  -0.148769"
      ]
     },
     "execution_count": 25,
     "metadata": {},
     "output_type": "execute_result"
    }
   ],
   "source": [
    "samples = [10, 20, 30, 40, 50, 60, 70, 80, 90, 100]\n",
    "bag_scores2 = pd.DataFrame(index=samples, columns=['Train Score', 'Test Score'])\n",
    "for sample in samples:\n",
    "   bag_reg_fin = BaggingRegressor(max_samples=sample, random_state=42)\n",
    "   bag_reg_fin.fit(X_train, y_train)\n",
    "   bag_train_score = bag_reg_fin.score(X_train, y_train)\n",
    "   bag_test_score = bag_reg_fin.score(X_test, y_test)\n",
    "   bag_scores2.loc[sample, 'Train Score'] = bag_train_score\n",
    "   bag_scores2.loc[sample, 'Test Score'] = bag_test_score\n",
    "\n",
    "plt.xlabel('Estimators')\n",
    "plt.ylabel('R2');\n",
    "plt.plot(bag_scores2['Test Score'])\n",
    "plt.show()\n",
    "bag_scores2 = bag_scores2.sort_values(by='Test Score', ascending=False)\n",
    "bag_scores2"
   ]
  },
  {
   "cell_type": "code",
   "execution_count": 26,
   "id": "c40a70f9",
   "metadata": {},
   "outputs": [
    {
     "data": {
      "text/plain": [
       "{'max_samples': 30, 'n_estimators': 40}"
      ]
     },
     "execution_count": 26,
     "metadata": {},
     "output_type": "execute_result"
    }
   ],
   "source": [
    "model2 = BaggingRegressor(random_state=42)\n",
    "param_grid2 = {'n_estimators': [5,10,15,20,25,30,35,40],\n",
    "              'max_samples': [5,10, 15, 25, 30, 35, 40]}\n",
    "dt_grid_search2 = GridSearchCV(model2, param_grid2)\n",
    "dt_grid_search2.fit(X_train, y_train)\n",
    "dt_grid_search2.best_params_"
   ]
  },
  {
   "cell_type": "code",
   "execution_count": 27,
   "id": "0e3cd9e4",
   "metadata": {
    "scrolled": true
   },
   "outputs": [
    {
     "name": "stdout",
     "output_type": "stream",
     "text": [
      "Train\n",
      "scores: \n",
      "MAE: 0.18 \n",
      "MSE: 0.06 \n",
      "RMSE: 0.24 \n",
      "R2: -0.01\n",
      "Test\n",
      "scores: \n",
      "MAE: 0.18 \n",
      "MSE: 0.06 \n",
      "RMSE: 0.24 \n",
      "R2: -0.02\n"
     ]
    }
   ],
   "source": [
    "bag_reg_fin = BaggingRegressor(max_samples=30, n_estimators=40, random_state=42)\n",
    "bag_reg_fin.fit(X_train, y_train)\n",
    "print('Train')\n",
    "eval(y_train, bag_reg_fin.predict(X_train))\n",
    "print('Test')\n",
    "eval(y_test, bag_reg_fin.predict(X_test))"
   ]
  },
  {
   "cell_type": "markdown",
   "id": "1a89cae6",
   "metadata": {},
   "source": [
    "Can't fix tuning this, but exercise done."
   ]
  },
  {
   "cell_type": "markdown",
   "id": "b2d1e864",
   "metadata": {},
   "source": [
    "## Random Forest Model"
   ]
  },
  {
   "cell_type": "code",
   "execution_count": 28,
   "id": "a7551586",
   "metadata": {},
   "outputs": [
    {
     "data": {
      "text/html": [
       "<style>#sk-container-id-2 {color: black;background-color: white;}#sk-container-id-2 pre{padding: 0;}#sk-container-id-2 div.sk-toggleable {background-color: white;}#sk-container-id-2 label.sk-toggleable__label {cursor: pointer;display: block;width: 100%;margin-bottom: 0;padding: 0.3em;box-sizing: border-box;text-align: center;}#sk-container-id-2 label.sk-toggleable__label-arrow:before {content: \"▸\";float: left;margin-right: 0.25em;color: #696969;}#sk-container-id-2 label.sk-toggleable__label-arrow:hover:before {color: black;}#sk-container-id-2 div.sk-estimator:hover label.sk-toggleable__label-arrow:before {color: black;}#sk-container-id-2 div.sk-toggleable__content {max-height: 0;max-width: 0;overflow: hidden;text-align: left;background-color: #f0f8ff;}#sk-container-id-2 div.sk-toggleable__content pre {margin: 0.2em;color: black;border-radius: 0.25em;background-color: #f0f8ff;}#sk-container-id-2 input.sk-toggleable__control:checked~div.sk-toggleable__content {max-height: 200px;max-width: 100%;overflow: auto;}#sk-container-id-2 input.sk-toggleable__control:checked~label.sk-toggleable__label-arrow:before {content: \"▾\";}#sk-container-id-2 div.sk-estimator input.sk-toggleable__control:checked~label.sk-toggleable__label {background-color: #d4ebff;}#sk-container-id-2 div.sk-label input.sk-toggleable__control:checked~label.sk-toggleable__label {background-color: #d4ebff;}#sk-container-id-2 input.sk-hidden--visually {border: 0;clip: rect(1px 1px 1px 1px);clip: rect(1px, 1px, 1px, 1px);height: 1px;margin: -1px;overflow: hidden;padding: 0;position: absolute;width: 1px;}#sk-container-id-2 div.sk-estimator {font-family: monospace;background-color: #f0f8ff;border: 1px dotted black;border-radius: 0.25em;box-sizing: border-box;margin-bottom: 0.5em;}#sk-container-id-2 div.sk-estimator:hover {background-color: #d4ebff;}#sk-container-id-2 div.sk-parallel-item::after {content: \"\";width: 100%;border-bottom: 1px solid gray;flex-grow: 1;}#sk-container-id-2 div.sk-label:hover label.sk-toggleable__label {background-color: #d4ebff;}#sk-container-id-2 div.sk-serial::before {content: \"\";position: absolute;border-left: 1px solid gray;box-sizing: border-box;top: 0;bottom: 0;left: 50%;z-index: 0;}#sk-container-id-2 div.sk-serial {display: flex;flex-direction: column;align-items: center;background-color: white;padding-right: 0.2em;padding-left: 0.2em;position: relative;}#sk-container-id-2 div.sk-item {position: relative;z-index: 1;}#sk-container-id-2 div.sk-parallel {display: flex;align-items: stretch;justify-content: center;background-color: white;position: relative;}#sk-container-id-2 div.sk-item::before, #sk-container-id-2 div.sk-parallel-item::before {content: \"\";position: absolute;border-left: 1px solid gray;box-sizing: border-box;top: 0;bottom: 0;left: 50%;z-index: -1;}#sk-container-id-2 div.sk-parallel-item {display: flex;flex-direction: column;z-index: 1;position: relative;background-color: white;}#sk-container-id-2 div.sk-parallel-item:first-child::after {align-self: flex-end;width: 50%;}#sk-container-id-2 div.sk-parallel-item:last-child::after {align-self: flex-start;width: 50%;}#sk-container-id-2 div.sk-parallel-item:only-child::after {width: 0;}#sk-container-id-2 div.sk-dashed-wrapped {border: 1px dashed gray;margin: 0 0.4em 0.5em 0.4em;box-sizing: border-box;padding-bottom: 0.4em;background-color: white;}#sk-container-id-2 div.sk-label label {font-family: monospace;font-weight: bold;display: inline-block;line-height: 1.2em;}#sk-container-id-2 div.sk-label-container {text-align: center;}#sk-container-id-2 div.sk-container {/* jupyter's `normalize.less` sets `[hidden] { display: none; }` but bootstrap.min.css set `[hidden] { display: none !important; }` so we also need the `!important` here to be able to override the default hidden behavior on the sphinx rendered scikit-learn.org. See: https://github.com/scikit-learn/scikit-learn/issues/21755 */display: inline-block !important;position: relative;}#sk-container-id-2 div.sk-text-repr-fallback {display: none;}</style><div id=\"sk-container-id-2\" class=\"sk-top-container\"><div class=\"sk-text-repr-fallback\"><pre>RandomForestRegressor(random_state=42)</pre><b>In a Jupyter environment, please rerun this cell to show the HTML representation or trust the notebook. <br />On GitHub, the HTML representation is unable to render, please try loading this page with nbviewer.org.</b></div><div class=\"sk-container\" hidden><div class=\"sk-item\"><div class=\"sk-estimator sk-toggleable\"><input class=\"sk-toggleable__control sk-hidden--visually\" id=\"sk-estimator-id-4\" type=\"checkbox\" checked><label for=\"sk-estimator-id-4\" class=\"sk-toggleable__label sk-toggleable__label-arrow\">RandomForestRegressor</label><div class=\"sk-toggleable__content\"><pre>RandomForestRegressor(random_state=42)</pre></div></div></div></div></div>"
      ],
      "text/plain": [
       "RandomForestRegressor(random_state=42)"
      ]
     },
     "execution_count": 28,
     "metadata": {},
     "output_type": "execute_result"
    }
   ],
   "source": [
    "rf = RandomForestRegressor(random_state = 42)\n",
    "rf.fit(X_train, y_train)"
   ]
  },
  {
   "cell_type": "markdown",
   "id": "2e9cf93f",
   "metadata": {},
   "source": [
    "Base model accuracy"
   ]
  },
  {
   "cell_type": "code",
   "execution_count": 29,
   "id": "6dda4e3c",
   "metadata": {},
   "outputs": [
    {
     "name": "stdout",
     "output_type": "stream",
     "text": [
      "Train\n",
      "scores: \n",
      "MAE: 0.07 \n",
      "MSE: 0.01 \n",
      "RMSE: 0.10 \n",
      "R2: 0.83\n",
      "Test\n",
      "scores: \n",
      "MAE: 0.19 \n",
      "MSE: 0.07 \n",
      "RMSE: 0.26 \n",
      "R2: -0.17\n"
     ]
    }
   ],
   "source": [
    "print('Train')\n",
    "eval(y_train, rf.predict(X_train))\n",
    "print('Test')\n",
    "eval(y_test, rf.predict(X_test))"
   ]
  },
  {
   "cell_type": "markdown",
   "id": "d7314593",
   "metadata": {},
   "source": [
    "Base model is still pretty weak, hopefully we can better tune this to replicate the data's results"
   ]
  },
  {
   "cell_type": "code",
   "execution_count": 30,
   "id": "371b0dd0",
   "metadata": {},
   "outputs": [
    {
     "data": {
      "text/plain": [
       "{'bootstrap': True,\n",
       " 'ccp_alpha': 0.0,\n",
       " 'criterion': 'squared_error',\n",
       " 'max_depth': None,\n",
       " 'max_features': 1.0,\n",
       " 'max_leaf_nodes': None,\n",
       " 'max_samples': None,\n",
       " 'min_impurity_decrease': 0.0,\n",
       " 'min_samples_leaf': 1,\n",
       " 'min_samples_split': 2,\n",
       " 'min_weight_fraction_leaf': 0.0,\n",
       " 'n_estimators': 100,\n",
       " 'n_jobs': None,\n",
       " 'oob_score': False,\n",
       " 'random_state': 42,\n",
       " 'verbose': 0,\n",
       " 'warm_start': False}"
      ]
     },
     "execution_count": 30,
     "metadata": {},
     "output_type": "execute_result"
    }
   ],
   "source": [
    "rf.get_params()"
   ]
  },
  {
   "cell_type": "code",
   "execution_count": 32,
   "id": "7e44c92f",
   "metadata": {},
   "outputs": [
    {
     "data": {
      "text/html": [
       "<div>\n",
       "<style scoped>\n",
       "    .dataframe tbody tr th:only-of-type {\n",
       "        vertical-align: middle;\n",
       "    }\n",
       "\n",
       "    .dataframe tbody tr th {\n",
       "        vertical-align: top;\n",
       "    }\n",
       "\n",
       "    .dataframe thead th {\n",
       "        text-align: right;\n",
       "    }\n",
       "</style>\n",
       "<table border=\"1\" class=\"dataframe\">\n",
       "  <thead>\n",
       "    <tr style=\"text-align: right;\">\n",
       "      <th></th>\n",
       "      <th>Test Score</th>\n",
       "      <th>Train Score</th>\n",
       "    </tr>\n",
       "  </thead>\n",
       "  <tbody>\n",
       "    <tr>\n",
       "      <th>5</th>\n",
       "      <td>0.021902</td>\n",
       "      <td>0.04566</td>\n",
       "    </tr>\n",
       "    <tr>\n",
       "      <th>10</th>\n",
       "      <td>-0.004167</td>\n",
       "      <td>0.214548</td>\n",
       "    </tr>\n",
       "    <tr>\n",
       "      <th>15</th>\n",
       "      <td>-0.055995</td>\n",
       "      <td>0.476756</td>\n",
       "    </tr>\n",
       "    <tr>\n",
       "      <th>20</th>\n",
       "      <td>-0.116018</td>\n",
       "      <td>0.668747</td>\n",
       "    </tr>\n",
       "    <tr>\n",
       "      <th>25</th>\n",
       "      <td>-0.15965</td>\n",
       "      <td>0.762944</td>\n",
       "    </tr>\n",
       "  </tbody>\n",
       "</table>\n",
       "</div>"
      ],
      "text/plain": [
       "   Test Score Train Score\n",
       "5    0.021902     0.04566\n",
       "10  -0.004167    0.214548\n",
       "15  -0.055995    0.476756\n",
       "20  -0.116018    0.668747\n",
       "25   -0.15965    0.762944"
      ]
     },
     "execution_count": 32,
     "metadata": {},
     "output_type": "execute_result"
    },
    {
     "data": {
      "image/png": "[encoded data removed]",
      "text/plain": [
       "<Figure size 640x480 with 1 Axes>"
      ]
     },
     "metadata": {},
     "output_type": "display_data"
    }
   ],
   "source": [
    "depths2 = [5, 10, 15, 20, 25, 30, 35, 40, 45, 50, 55, 60, 65, 70, 75]\n",
    "bag_scores2 = pd.DataFrame(index=depths2, columns=['Test Score','Train Score'])\n",
    "for depth2 in depths2:\n",
    "    bagforest = RandomForestRegressor(max_depth=depth2, n_estimators=30, random_state=42)\n",
    "    bagforest.fit(X_train, y_train)\n",
    "    bagforest_train_score = bagforest.score(X_train, y_train)\n",
    "    bagforest_test_score = bagforest.score(X_test, y_test)\n",
    "    bag_scores2.loc[depth2, 'Train Score'] = bagforest_train_score\n",
    "    bag_scores2.loc[depth2, 'Test Score'] = bagforest_test_score\n",
    "plt.plot(depths2, bag_scores2['Test Score'])\n",
    "plt.xlabel('max_depth')\n",
    "plt.ylabel('R2');\n",
    "bag_scores2 = bag_scores2.sort_values(by='Test Score', ascending=False)\n",
    "bag_scores2.head()"
   ]
  },
  {
   "cell_type": "code",
   "execution_count": 33,
   "id": "492ec35a",
   "metadata": {},
   "outputs": [
    {
     "data": {
      "text/plain": [
       "{'max_depth': 5, 'max_leaf_nodes': 5, 'n_estimators': 15}"
      ]
     },
     "execution_count": 33,
     "metadata": {},
     "output_type": "execute_result"
    }
   ],
   "source": [
    "model3 = RandomForestRegressor(random_state=42)\n",
    "param_grid3 = {'max_depth': [5,10,15,20,25,30,35,40],\n",
    "               'n_estimators': [5,10,15,20,25,30,35,40],\n",
    "               'max_leaf_nodes': [5,10,15,20,25,30,35,40]}\n",
    "grid_search3 = GridSearchCV(model3, param_grid3)\n",
    "grid_search3.fit(X_train, y_train)\n",
    "grid_search3.best_params_"
   ]
  },
  {
   "cell_type": "code",
   "execution_count": 34,
   "id": "7b00b1d4",
   "metadata": {},
   "outputs": [
    {
     "name": "stdout",
     "output_type": "stream",
     "text": [
      "Train\n",
      "scores: \n",
      "MAE: 0.18 \n",
      "MSE: 0.06 \n",
      "RMSE: 0.24 \n",
      "R2: 0.02\n",
      "Test\n",
      "scores: \n",
      "MAE: 0.18 \n",
      "MSE: 0.06 \n",
      "RMSE: 0.24 \n",
      "R2: 0.02\n"
     ]
    }
   ],
   "source": [
    "rf_grid = RandomForestRegressor(max_leaf_nodes = 5, max_depth = 5, n_estimators = 10, random_state=42)\n",
    "rf_grid.fit(X_train, y_train)\n",
    "print('Train')\n",
    "eval(y_train, rf_grid.predict(X_train))\n",
    "print('Test')\n",
    "eval(y_test, rf_grid.predict(X_test))"
   ]
  },
  {
   "cell_type": "markdown",
   "id": "ff28eec6",
   "metadata": {},
   "source": [
    "As expected, the R squared value isn't strong enough for any of these models.  Hoping that a neural net or KMeans will do better."
   ]
  }
 ],
 "metadata": {
  "kernelspec": {
   "display_name": "Python (dojo-env)",
   "language": "python",
   "name": "dojo-env"
  },
  "language_info": {
   "codemirror_mode": {
    "name": "ipython",
    "version": 3
   },
   "file_extension": ".py",
   "mimetype": "text/x-python",
   "name": "python",
   "nbconvert_exporter": "python",
   "pygments_lexer": "ipython3",
   "version": "3.8.13"
  },
  "toc": {
   "base_numbering": 1,
   "nav_menu": {},
   "number_sections": true,
   "sideBar": true,
   "skip_h1_title": false,
   "title_cell": "Table of Contents",
   "title_sidebar": "Contents",
   "toc_cell": false,
   "toc_position": {},
   "toc_section_display": true,
   "toc_window_display": true
  }
 },
 "nbformat": 4,
 "nbformat_minor": 5
}
